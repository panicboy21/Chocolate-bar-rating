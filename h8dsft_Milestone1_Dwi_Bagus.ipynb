{
 "cells": [
  {
   "cell_type": "markdown",
   "metadata": {},
   "source": [
    "## Perkenalan"
   ]
  },
  {
   "cell_type": "markdown",
   "metadata": {},
   "source": [
    "Nama : Dwi Bagus Prasetyo\\\n",
    "Batch : RMT-027\n",
    "\n",
    "link dashboard : https://public.tableau.com/views/M1_17049660820890/Story1?:language=en-US&publish=yes&:display_count=n&:origin=viz_share_link"
   ]
  },
  {
   "cell_type": "markdown",
   "metadata": {},
   "source": [
    "## Identifikasi Masalah"
   ]
  },
  {
   "cell_type": "markdown",
   "metadata": {},
   "source": [
    "Client saya ingin meningkatkan rating dari produk coklat yang mereka jual namun Client saya belum tau coklat seperti apa yang disukai oleh orang-orang. Sebagai data analyst saya diminta client untuk menganalisa data menggunakan statistik dan dashboard visualisasi."
   ]
  },
  {
   "cell_type": "markdown",
   "metadata": {},
   "source": [
    "### Problem Statment SMART"
   ]
  },
  {
   "cell_type": "markdown",
   "metadata": {},
   "source": [
    "- **Spesific** : Meningkatkan rating produk coklat dengan cara meningkatkan kualitas coklat\n",
    "- **Measureable** : Meningkatkan rating coklat batang menjadi 3.5\n",
    "- **Achievable** : Target bisa dicapai dengan meningkatkan kualitas coklat dari segi jenis kakao dan kadar kakao pada coklat\n",
    "- **Relevant** : Dengan meningkatkan kualitas coklat maka akan meningkatkan rating dari produk coklat sehingga penjualan coklat akan meningkat\n",
    "- **Time-Bound** : Target meningkatkan rating produk menjadi 3.5 bisa dicapai dalam waktu 6 bulan\n",
    "\n",
    "**Problem Statment** : Untuk meningkatkan rating produk coklat dengan cara meningkatkan kualitas coklat dari segi jenis kakao dan kadar kakao pada coklat akan meningkat kan rating produk coklat menjadi 3.5 dalam waktu 6 bulan"
   ]
  },
  {
   "cell_type": "markdown",
   "metadata": {},
   "source": [
    "Penjabaran masalah dengan 5W+1H:\n",
    "- Berapa  rata-rata kadar persentase kakao pada coklat yang dibuat oleh perusahaan?\n",
    "- Apakah Rata-rata Rating Coklat pada negara Canada lebih tinggi dari Negara U.S.A di tahun 2017?\n",
    "- Jenis kakao apa yang sering digunakan dalam pembuatan coklat?\n",
    "- Siapa Negara dengan Perusahaan pembuat coklat terbanyak?\n",
    "- Berapakah rata-rata rating Coklat yang didapat negara U.S.A. tiap Tahun nya?\n",
    "- Apakah kandungan persentase kakao mempengaruhi rating dari coklat batangan?"
   ]
  },
  {
   "cell_type": "markdown",
   "metadata": {},
   "source": [
    "## Data Loading"
   ]
  },
  {
   "cell_type": "markdown",
   "metadata": {},
   "source": [
    "import Library yang dibutuhkan"
   ]
  },
  {
   "cell_type": "code",
   "execution_count": 107,
   "metadata": {},
   "outputs": [],
   "source": [
    "import pandas as pd\n",
    "import numpy as np\n",
    "from scipy import stats\n",
    "import matplotlib.pyplot as plt\n",
    "import seaborn as sns"
   ]
  },
  {
   "cell_type": "markdown",
   "metadata": {},
   "source": [
    "Load data dari file flavors_of_cacao.csv yang diambil dari datasheet di kaggle.com"
   ]
  },
  {
   "cell_type": "code",
   "execution_count": 108,
   "metadata": {},
   "outputs": [],
   "source": [
    "df_coklat = pd.read_csv('flavors_of_cacao.csv') #load data dari file csv"
   ]
  },
  {
   "cell_type": "code",
   "execution_count": 109,
   "metadata": {},
   "outputs": [
    {
     "data": {
      "text/html": [
       "<div>\n",
       "<style scoped>\n",
       "    .dataframe tbody tr th:only-of-type {\n",
       "        vertical-align: middle;\n",
       "    }\n",
       "\n",
       "    .dataframe tbody tr th {\n",
       "        vertical-align: top;\n",
       "    }\n",
       "\n",
       "    .dataframe thead th {\n",
       "        text-align: right;\n",
       "    }\n",
       "</style>\n",
       "<table border=\"1\" class=\"dataframe\">\n",
       "  <thead>\n",
       "    <tr style=\"text-align: right;\">\n",
       "      <th></th>\n",
       "      <th>Company \\n(Maker-if known)</th>\n",
       "      <th>Specific Bean Origin\\nor Bar Name</th>\n",
       "      <th>REF</th>\n",
       "      <th>Review\\nDate</th>\n",
       "      <th>Cocoa\\nPercent</th>\n",
       "      <th>Company\\nLocation</th>\n",
       "      <th>Rating</th>\n",
       "      <th>Bean\\nType</th>\n",
       "      <th>Broad Bean\\nOrigin</th>\n",
       "    </tr>\n",
       "  </thead>\n",
       "  <tbody>\n",
       "    <tr>\n",
       "      <th>0</th>\n",
       "      <td>A. Morin</td>\n",
       "      <td>Agua Grande</td>\n",
       "      <td>1876</td>\n",
       "      <td>2016</td>\n",
       "      <td>63%</td>\n",
       "      <td>France</td>\n",
       "      <td>3.75</td>\n",
       "      <td></td>\n",
       "      <td>Sao Tome</td>\n",
       "    </tr>\n",
       "    <tr>\n",
       "      <th>1</th>\n",
       "      <td>A. Morin</td>\n",
       "      <td>Kpime</td>\n",
       "      <td>1676</td>\n",
       "      <td>2015</td>\n",
       "      <td>70%</td>\n",
       "      <td>France</td>\n",
       "      <td>2.75</td>\n",
       "      <td></td>\n",
       "      <td>Togo</td>\n",
       "    </tr>\n",
       "    <tr>\n",
       "      <th>2</th>\n",
       "      <td>A. Morin</td>\n",
       "      <td>Atsane</td>\n",
       "      <td>1676</td>\n",
       "      <td>2015</td>\n",
       "      <td>70%</td>\n",
       "      <td>France</td>\n",
       "      <td>3.00</td>\n",
       "      <td></td>\n",
       "      <td>Togo</td>\n",
       "    </tr>\n",
       "    <tr>\n",
       "      <th>3</th>\n",
       "      <td>A. Morin</td>\n",
       "      <td>Akata</td>\n",
       "      <td>1680</td>\n",
       "      <td>2015</td>\n",
       "      <td>70%</td>\n",
       "      <td>France</td>\n",
       "      <td>3.50</td>\n",
       "      <td></td>\n",
       "      <td>Togo</td>\n",
       "    </tr>\n",
       "    <tr>\n",
       "      <th>4</th>\n",
       "      <td>A. Morin</td>\n",
       "      <td>Quilla</td>\n",
       "      <td>1704</td>\n",
       "      <td>2015</td>\n",
       "      <td>70%</td>\n",
       "      <td>France</td>\n",
       "      <td>3.50</td>\n",
       "      <td></td>\n",
       "      <td>Peru</td>\n",
       "    </tr>\n",
       "  </tbody>\n",
       "</table>\n",
       "</div>"
      ],
      "text/plain": [
       "  Company \\n(Maker-if known) Specific Bean Origin\\nor Bar Name   REF  \\\n",
       "0                   A. Morin                       Agua Grande  1876   \n",
       "1                   A. Morin                             Kpime  1676   \n",
       "2                   A. Morin                            Atsane  1676   \n",
       "3                   A. Morin                             Akata  1680   \n",
       "4                   A. Morin                            Quilla  1704   \n",
       "\n",
       "   Review\\nDate Cocoa\\nPercent Company\\nLocation  Rating Bean\\nType  \\\n",
       "0          2016            63%            France    3.75              \n",
       "1          2015            70%            France    2.75              \n",
       "2          2015            70%            France    3.00              \n",
       "3          2015            70%            France    3.50              \n",
       "4          2015            70%            France    3.50              \n",
       "\n",
       "  Broad Bean\\nOrigin  \n",
       "0           Sao Tome  \n",
       "1               Togo  \n",
       "2               Togo  \n",
       "3               Togo  \n",
       "4               Peru  "
      ]
     },
     "execution_count": 109,
     "metadata": {},
     "output_type": "execute_result"
    }
   ],
   "source": [
    "df_coklat.head() #tampilkan 5 data teratas"
   ]
  },
  {
   "cell_type": "code",
   "execution_count": 110,
   "metadata": {},
   "outputs": [
    {
     "name": "stdout",
     "output_type": "stream",
     "text": [
      "<class 'pandas.core.frame.DataFrame'>\n",
      "RangeIndex: 1795 entries, 0 to 1794\n",
      "Data columns (total 9 columns):\n",
      " #   Column                            Non-Null Count  Dtype  \n",
      "---  ------                            --------------  -----  \n",
      " 0   Company \n",
      "(Maker-if known)         1795 non-null   object \n",
      " 1   Specific Bean Origin\n",
      "or Bar Name  1795 non-null   object \n",
      " 2   REF                               1795 non-null   int64  \n",
      " 3   Review\n",
      "Date                       1795 non-null   int64  \n",
      " 4   Cocoa\n",
      "Percent                     1795 non-null   object \n",
      " 5   Company\n",
      "Location                  1795 non-null   object \n",
      " 6   Rating                            1795 non-null   float64\n",
      " 7   Bean\n",
      "Type                         1794 non-null   object \n",
      " 8   Broad Bean\n",
      "Origin                 1794 non-null   object \n",
      "dtypes: float64(1), int64(2), object(6)\n",
      "memory usage: 126.3+ KB\n"
     ]
    }
   ],
   "source": [
    "df_coklat.info()"
   ]
  },
  {
   "cell_type": "code",
   "execution_count": 111,
   "metadata": {},
   "outputs": [
    {
     "data": {
      "text/plain": [
       "Company \\n(Maker-if known)           0\n",
       "Specific Bean Origin\\nor Bar Name    0\n",
       "REF                                  0\n",
       "Review\\nDate                         0\n",
       "Cocoa\\nPercent                       0\n",
       "Company\\nLocation                    0\n",
       "Rating                               0\n",
       "Bean\\nType                           1\n",
       "Broad Bean\\nOrigin                   1\n",
       "dtype: int64"
      ]
     },
     "execution_count": 111,
     "metadata": {},
     "output_type": "execute_result"
    }
   ],
   "source": [
    "# Cek Apakah ada data yang null atau NaN\n",
    "df_coklat.isnull().sum()"
   ]
  },
  {
   "cell_type": "markdown",
   "metadata": {},
   "source": [
    "Insight :\n",
    "- Label kolom pada data perlu di sesuaikan agar mudah diproses\n",
    "- drop kolom REF karena tidak dibutuhkan\n",
    "- handle missing value pada kolom Bean Type dan Bean Origin\n",
    "- Hilangkan simbol percent pada coco percent karena hanya ingin mengambil angkanya\n",
    "- Terdapat tipe data yang belum sesuai, harus disesuaikan terlebih dahulu"
   ]
  },
  {
   "cell_type": "markdown",
   "metadata": {},
   "source": [
    "## Data Cleaning"
   ]
  },
  {
   "cell_type": "markdown",
   "metadata": {},
   "source": [
    "**Kita lakukan data cleaning sesuai dengan hasil temuan saat load data**"
   ]
  },
  {
   "cell_type": "markdown",
   "metadata": {},
   "source": [
    "#### Ubah label kolom data"
   ]
  },
  {
   "cell_type": "code",
   "execution_count": 112,
   "metadata": {},
   "outputs": [],
   "source": [
    "# Ubah Label dari kolom data\n",
    "new_column = {'Company\\xa0\\n(Maker-if known)':'Company', 'Specific Bean Origin\\nor Bar Name':'Chocolate Bar',\n",
    "       'REF':'REF', 'Review\\nDate':'Year', 'Cocoa\\nPercent' : 'Cocoa Percent', 'Company\\nLocation' : 'Company Location', 'Rating':'Rating',\n",
    "       'Bean\\nType':'Bean Type', 'Broad Bean\\nOrigin':'Bean Origin'}\n",
    "df_coklat.rename(columns=new_column, inplace=True)"
   ]
  },
  {
   "cell_type": "markdown",
   "metadata": {},
   "source": [
    "#### Drop kolom REF"
   ]
  },
  {
   "cell_type": "code",
   "execution_count": 113,
   "metadata": {},
   "outputs": [],
   "source": [
    "# Hapus kolom REF\n",
    "df_coklat.drop('REF', axis=1, inplace=True)"
   ]
  },
  {
   "cell_type": "markdown",
   "metadata": {},
   "source": [
    "#### Handle missing value pada kolom Bean Type dan Bean Origin"
   ]
  },
  {
   "cell_type": "markdown",
   "metadata": {},
   "source": [
    "Hapus spasi di awal dan akhir dari data Bean Type dan Bean Origin"
   ]
  },
  {
   "cell_type": "code",
   "execution_count": 114,
   "metadata": {},
   "outputs": [],
   "source": [
    "df_coklat['Bean Type'] = df_coklat['Bean Type'].str.strip() # hilangkan spasi diawal dan diakhir kolom Bean Type\n",
    "df_coklat['Bean Origin'] = df_coklat['Bean Origin'].str.strip() # hilangkan spasi diawal dan diakhir kolom Bean Origin"
   ]
  },
  {
   "cell_type": "markdown",
   "metadata": {},
   "source": [
    "Ubah data empty string atau white space pada data frame menjadi Unknown"
   ]
  },
  {
   "cell_type": "code",
   "execution_count": 115,
   "metadata": {},
   "outputs": [],
   "source": [
    "# Ubah data empty string atau white space pada data frame menjadi Missing\n",
    "df_coklat['Bean Type'] = df_coklat['Bean Type'].replace('', 'Unknown')\n",
    "df_coklat['Bean Origin'] = df_coklat['Bean Origin'].replace('', 'Unknown')"
   ]
  },
  {
   "cell_type": "markdown",
   "metadata": {},
   "source": [
    "#### Hilangkan simbol percent pada Cocoa percent"
   ]
  },
  {
   "cell_type": "code",
   "execution_count": 116,
   "metadata": {},
   "outputs": [],
   "source": [
    "df_coklat['Cocoa Percent'] = df_coklat['Cocoa Percent'].str.replace('%', '')"
   ]
  },
  {
   "cell_type": "markdown",
   "metadata": {},
   "source": [
    "#### Ubah Tipe Data Cocoa Percent"
   ]
  },
  {
   "cell_type": "markdown",
   "metadata": {},
   "source": [
    "Ubah tipe data Cocoa Percent menjadi float"
   ]
  },
  {
   "cell_type": "code",
   "execution_count": 117,
   "metadata": {},
   "outputs": [],
   "source": [
    "df_coklat['Cocoa Percent'] = df_coklat['Cocoa Percent'].astype(float)"
   ]
  },
  {
   "cell_type": "code",
   "execution_count": 118,
   "metadata": {},
   "outputs": [
    {
     "name": "stdout",
     "output_type": "stream",
     "text": [
      "<class 'pandas.core.frame.DataFrame'>\n",
      "RangeIndex: 1795 entries, 0 to 1794\n",
      "Data columns (total 8 columns):\n",
      " #   Column            Non-Null Count  Dtype  \n",
      "---  ------            --------------  -----  \n",
      " 0   Company           1795 non-null   object \n",
      " 1   Chocolate Bar     1795 non-null   object \n",
      " 2   Year              1795 non-null   int64  \n",
      " 3   Cocoa Percent     1795 non-null   float64\n",
      " 4   Company Location  1795 non-null   object \n",
      " 5   Rating            1795 non-null   float64\n",
      " 6   Bean Type         1794 non-null   object \n",
      " 7   Bean Origin       1794 non-null   object \n",
      "dtypes: float64(2), int64(1), object(5)\n",
      "memory usage: 112.3+ KB\n"
     ]
    }
   ],
   "source": [
    "df_coklat.info()"
   ]
  },
  {
   "cell_type": "markdown",
   "metadata": {},
   "source": [
    "Data sudah kita lakukan cleaning dan sudah siap kita gunakan"
   ]
  },
  {
   "cell_type": "code",
   "execution_count": 293,
   "metadata": {},
   "outputs": [],
   "source": [
    "df_coklat.to_csv('Dwi_bagus.csv', index=False)"
   ]
  },
  {
   "cell_type": "markdown",
   "metadata": {},
   "source": [
    "## Analisis dan Perhitungan"
   ]
  },
  {
   "cell_type": "markdown",
   "metadata": {},
   "source": [
    "#### Berapa  rata-rata kadar persentase kakao pada coklat yang dibuat oleh perusahaan?"
   ]
  },
  {
   "cell_type": "markdown",
   "metadata": {},
   "source": [
    "Kita dapat menjawab pertanyaan di atas dengan Statistik Deskriptif dengan menhitung Central Tendency datanya"
   ]
  },
  {
   "cell_type": "code",
   "execution_count": 139,
   "metadata": {},
   "outputs": [
    {
     "name": "stdout",
     "output_type": "stream",
     "text": [
      "Rata-rata persentase kakao dalam coklat yang dibuat : 71.6983286908078 %\n",
      "Median dari persentase kakao 70.0 %\n",
      "Modus dari persentase kakao 70.0 %\n",
      "Skewness 1.0586035291952456\n"
     ]
    }
   ],
   "source": [
    "print('Rata-rata persentase kakao dalam coklat yang dibuat :', df_coklat['Cocoa Percent'].mean(),'%')\n",
    "print('Median dari persentase kakao', df_coklat['Cocoa Percent'].median(), '%')\n",
    "print('Modus dari persentase kakao', df_coklat['Cocoa Percent'].mode()[0], '%')\n",
    "print('Skewness', df_coklat['Cocoa Percent'].skew())"
   ]
  },
  {
   "cell_type": "markdown",
   "metadata": {},
   "source": [
    "Dari hasil perhitungan rata-rata persentase kakao yang dipakai untuk membuat coklat adalah 71.69%\\\n",
    "Dengan Median 70% dan Modus 70%\\\n",
    "Dan terdapat skew senilai 1.0586035291952456 yang berarti datanya Highly Skew dan memiliki skew positif"
   ]
  },
  {
   "cell_type": "code",
   "execution_count": 140,
   "metadata": {},
   "outputs": [
    {
     "data": {
      "text/plain": [
       "<Axes: >"
      ]
     },
     "execution_count": 140,
     "metadata": {},
     "output_type": "execute_result"
    },
    {
     "data": {
      "image/png": "[encoded data removed]",
      "text/plain": [
       "<Figure size 640x480 with 1 Axes>"
      ]
     },
     "metadata": {},
     "output_type": "display_data"
    }
   ],
   "source": [
    "df_coklat['Cocoa Percent'].plot(kind='box') # Buat box plot dari data Cocoa Percent"
   ]
  },
  {
   "cell_type": "markdown",
   "metadata": {},
   "source": [
    "Dari Chart Box Plot dapat dilihat rata-rata kakao percent berada di 71% lower bounday nya sekitar 63-64 dan upper boundary sekitar 82-83 dan masih terdapat outlier pada data Cocoa Percent"
   ]
  },
  {
   "cell_type": "markdown",
   "metadata": {},
   "source": [
    "#### Apakah Rata-rata Rating Coklat pada negara Canada lebih tinggi dari Negara U.S.A di tahun 2017?"
   ]
  },
  {
   "cell_type": "markdown",
   "metadata": {},
   "source": [
    "Kita bisa menggunakan Statistik Inferential untuk menjawab pertanyaan diatas dengan teknik Two Sample Independent Test"
   ]
  },
  {
   "cell_type": "code",
   "execution_count": 290,
   "metadata": {},
   "outputs": [],
   "source": [
    "# Ambil data rating Coklat di tahun 2017 Negara Canada & USA\n",
    "Canada = df_coklat[(df_coklat['Company Location']=='Canada') & (df_coklat['Year']==2017)][['Company Location', 'Rating']]\n",
    "Usa = df_coklat[(df_coklat['Company Location']=='U.S.A.') & (df_coklat['Year']==2017)][['Company Location', 'Rating']]"
   ]
  },
  {
   "cell_type": "markdown",
   "metadata": {},
   "source": [
    "Kita tentukan H0 dan H1 nya\\\n",
    "H0 : Rata-rata Rating Coklat di Canada >= Rata-rata Rating Coklat di USA pada tahun 2017\\\n",
    "H1 : Rata-rata Rating Coklat di Canada < Rata-rata Rating Coklat di USA pada tahun 2017"
   ]
  },
  {
   "cell_type": "code",
   "execution_count": 292,
   "metadata": {},
   "outputs": [
    {
     "name": "stdout",
     "output_type": "stream",
     "text": [
      "T-Statistic: 0.7687359807886864\n",
      "P-value: 0.45398437709642003\n"
     ]
    }
   ],
   "source": [
    "# Perhitungan p-value dengan teknik two sample independent test\n",
    "t_stat, p_val = stats.ttest_ind(Canada['Rating'], Usa['Rating'])\n",
    "print('T-Statistic:',t_stat)\n",
    "print('P-value:',p_val)"
   ]
  },
  {
   "cell_type": "markdown",
   "metadata": {},
   "source": [
    "Dari Hasil Perhitungan Two Sample Independent Test diatas didapatkan p-value: 0.45398437709642003 yang berarti lebih dari critical value 0.05 dan dapat disimpulkan bahwa H0 diterima yang berarti Rata-rata Rating Coklat di Canada >= Rata-rata Rating Coklat di USA pada tahun 2017"
   ]
  },
  {
   "cell_type": "markdown",
   "metadata": {},
   "source": [
    "#### Jenis kakao apa yang sering digunakan dalam pembuatan coklat?"
   ]
  },
  {
   "cell_type": "markdown",
   "metadata": {},
   "source": [
    "Kita bisa melihat jenis kakao yang paling banyak digunakan dalam pembuatan coklat dengan Pie Chart"
   ]
  },
  {
   "cell_type": "code",
   "execution_count": 158,
   "metadata": {},
   "outputs": [
    {
     "data": {
      "text/plain": [
       "Bean Type\n",
       "Trinitario               419\n",
       "Criollo                  153\n",
       "Forastero                 87\n",
       "Forastero (Nacional)      52\n",
       "Blend                     41\n",
       "Criollo, Trinitario       39\n",
       "Forastero (Arriba)        37\n",
       "Criollo (Porcelana)       10\n",
       "Trinitario, Criollo        9\n",
       "Forastero (Parazinho)      8\n",
       "Name: count, dtype: int64"
      ]
     },
     "execution_count": 158,
     "metadata": {},
     "output_type": "execute_result"
    }
   ],
   "source": [
    "# Kita filter data Top 10 jenis kakao yang digunakan selain unknown\n",
    "Top_jenis_kakao = df_coklat['Bean Type'][df_coklat['Bean Type']!='Unknown'].value_counts().head(10)\n",
    "Top_jenis_kakao"
   ]
  },
  {
   "cell_type": "code",
   "execution_count": 159,
   "metadata": {},
   "outputs": [
    {
     "data": {
      "text/plain": [
       "<Axes: ylabel='Bean Type'>"
      ]
     },
     "execution_count": 159,
     "metadata": {},
     "output_type": "execute_result"
    },
    {
     "data": {
      "image/png": "[encoded data removed]",
      "text/plain": [
       "<Figure size 640x480 with 1 Axes>"
      ]
     },
     "metadata": {},
     "output_type": "display_data"
    }
   ],
   "source": [
    "Top_jenis_kakao.plot(kind='barh')"
   ]
  },
  {
   "cell_type": "markdown",
   "metadata": {},
   "source": [
    "Dari Bar Chart diatas kita bisa simpulkan bahwa Jenis kakao yang paling sering digunakan dalam pembuatan coklat adalah jenis Trinitario karena digunakan dalam 419 pembuatan coklat disusul dengan Criollo sebanyak 153 dan Forastero sebanyak 87"
   ]
  },
  {
   "cell_type": "markdown",
   "metadata": {},
   "source": [
    "#### Siapa Negara dengan Perusahaan pembuat coklat terbanyak?"
   ]
  },
  {
   "cell_type": "markdown",
   "metadata": {},
   "source": [
    "Kita gunakan Pie Chart untuk melihat banyaknya perusahaan pembuat coklat di tiap negara"
   ]
  },
  {
   "cell_type": "code",
   "execution_count": null,
   "metadata": {},
   "outputs": [
    {
     "data": {
      "text/plain": [
       "Company Location\n",
       "U.S.A.       175\n",
       "France        22\n",
       "Canada        20\n",
       "U.K.          20\n",
       "Ecuador       13\n",
       "Australia     10\n",
       "Italy         10\n",
       "Peru          10\n",
       "Germany       10\n",
       "Japan          8\n",
       "Name: Company, dtype: int64"
      ]
     },
     "metadata": {},
     "output_type": "display_data"
    }
   ],
   "source": [
    "# Kita siapkan data berdasarkan filter top 10 Negara pembuat coklat\n",
    "Top_negara_company = df_coklat.groupby(['Company Location'])['Company'].nunique().sort_values(ascending=False).head(10)\n",
    "Top_negara_company"
   ]
  },
  {
   "cell_type": "code",
   "execution_count": null,
   "metadata": {},
   "outputs": [
    {
     "data": {
      "text/plain": [
       "<Axes: ylabel='Company'>"
      ]
     },
     "metadata": {},
     "output_type": "display_data"
    },
    {
     "data": {
      "image/png": "[encoded data removed]",
      "text/plain": [
       "<Figure size 640x480 with 1 Axes>"
      ]
     },
     "metadata": {},
     "output_type": "display_data"
    }
   ],
   "source": [
    "Top_negara_company.plot(kind='pie')"
   ]
  },
  {
   "cell_type": "markdown",
   "metadata": {},
   "source": [
    "Dari Pie Char diatas kita bisa lihat bahwa Negara dengan Perusahaan pembuat coklat terbanyak ada di U.S. disusul France dan Canada"
   ]
  },
  {
   "cell_type": "markdown",
   "metadata": {},
   "source": [
    "#### Berapakah rata-rata rating Coklat yang didapat negara U.S.A. tiap Tahun nya?"
   ]
  },
  {
   "cell_type": "markdown",
   "metadata": {},
   "source": [
    "Kita gunakan line chart untuk melihat perubahan rating coklat di USA tiap tahunnya"
   ]
  },
  {
   "cell_type": "code",
   "execution_count": 259,
   "metadata": {},
   "outputs": [],
   "source": [
    "# Kita hitung rata-rata rating coklat di negara USA tiap tahunnya\n",
    "rating_tahun = df_coklat[['Company Location', 'Year', 'Rating']][df_coklat['Company Location'].isin(['U.S.A.'])].groupby(['Year'])['Rating'].mean()"
   ]
  },
  {
   "cell_type": "code",
   "execution_count": 257,
   "metadata": {},
   "outputs": [
    {
     "data": {
      "text/plain": [
       "<Axes: xlabel='Tahun', ylabel='Rating'>"
      ]
     },
     "execution_count": 257,
     "metadata": {},
     "output_type": "execute_result"
    },
    {
     "data": {
      "image/png": "[encoded data removed]",
      "text/plain": [
       "<Figure size 640x480 with 1 Axes>"
      ]
     },
     "metadata": {},
     "output_type": "display_data"
    }
   ],
   "source": [
    "# Buat plot line dengan data Rata-rata rating di negara USA\n",
    "rating_tahun.plot(kind='line', x='Year', y='Rating', xlabel='Tahun', ylabel='Rating')"
   ]
  },
  {
   "cell_type": "markdown",
   "metadata": {},
   "source": [
    "Dari Line Chart diatas dapat dilihat bahwa rating coklat di Negara USA mengalami kenaikan di tahun 2016-2017 dan sempat mengalami penurunan di tahun 2008"
   ]
  },
  {
   "cell_type": "markdown",
   "metadata": {},
   "source": [
    "#### Apakah kandungan persentase kakao mempengaruhi rating dari coklat batangan?"
   ]
  },
  {
   "cell_type": "markdown",
   "metadata": {},
   "source": [
    "Kita bisa cek relasi antara persentase kakao dengan rating coklat dengan Scatter Chart"
   ]
  },
  {
   "cell_type": "code",
   "execution_count": 261,
   "metadata": {},
   "outputs": [
    {
     "data": {
      "image/png": "[encoded data removed]",
      "text/plain": [
       "<Figure size 640x480 with 1 Axes>"
      ]
     },
     "metadata": {},
     "output_type": "display_data"
    }
   ],
   "source": [
    "fig, ax = plt.subplots()\n",
    "\n",
    "ax.set_title('Cocoa Percent vs Rating Chocolate')\n",
    "ax.set_xlabel('Cocoa Percent')\n",
    "ax.set_ylabel('Rating')\n",
    "\n",
    "ax.scatter(df_coklat['Cocoa Percent'],df_coklat['Rating'])\n",
    "plt.show()"
   ]
  },
  {
   "cell_type": "markdown",
   "metadata": {},
   "source": [
    "Jika kita lihat dari Scatter chart persentase kakao disekitar angka 70% rata-rata memilki rating 3 sampai 4 bahkan ada yang memiliki rating 5\\\n",
    "Namun juga ada Rating yang di bawah 3"
   ]
  },
  {
   "cell_type": "code",
   "execution_count": 263,
   "metadata": {},
   "outputs": [
    {
     "name": "stdout",
     "output_type": "stream",
     "text": [
      "rho-correlation: -0.12, p-value: 1.3478910193770237e-07\n"
     ]
    }
   ],
   "source": [
    "corr_rho, pval_s = stats.spearmanr(df_coklat['Cocoa Percent'], df_coklat['Rating'])\n",
    "\n",
    "print(f\"rho-correlation: {corr_rho:.2f}, p-value: {pval_s}\")"
   ]
  },
  {
   "cell_type": "markdown",
   "metadata": {},
   "source": [
    "Jika kita lihat dari perhitungan menggunakan teknik spearman nilai korelasinya -0.12 yang menandakan negatif koralasi serta p-value nya didapat nilai 1.3478910193770237e-07 yang berarti lebih kecil dari critical value 0.05 berarti hubungan antara Cocoa Percent dengan Rating terjadi kebetulan"
   ]
  },
  {
   "cell_type": "markdown",
   "metadata": {},
   "source": [
    "## Kesimpulan"
   ]
  },
  {
   "cell_type": "markdown",
   "metadata": {},
   "source": [
    "Dari Hasil analisa kita bisa ambil point:\n",
    "1. Rata-rata kadar kakao yang di pakai untuk membuat coklat adalah 71%\n",
    "2. Jenis kakao yang paling sering digunakan dalam pembuatan coklat adalah jenis Trinitario\n",
    "3. Negara dengan Perusahaan pembuat coklat terbanyak adalah U.S.A\n",
    "4. Kandungan persentase kakao belum tentu mempengaruhi rating dari coklat\n",
    "\n",
    "Kalau kita simpulkan jika kita ingin membuat coklat yang kita dapat mencoba membuat coklat dengan kadar kakao 71% dan menggunakan kakao jenis Trinitario. Kita juga bisa research coklat yang dibuat di USA untuk mengembangkan kualitas coklat yang akan kita buat."
   ]
  }
 ],
 "metadata": {
  "kernelspec": {
   "display_name": "base",
   "language": "python",
   "name": "python3"
  },
  "language_info": {
   "codemirror_mode": {
    "name": "ipython",
    "version": 3
   },
   "file_extension": ".py",
   "mimetype": "text/x-python",
   "name": "python",
   "nbconvert_exporter": "python",
   "pygments_lexer": "ipython3",
   "version": "3.11.5"
  }
 },
 "nbformat": 4,
 "nbformat_minor": 2
}
